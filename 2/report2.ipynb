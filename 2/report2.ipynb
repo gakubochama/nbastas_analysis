{
 "metadata": {
  "language_info": {
   "codemirror_mode": {
    "name": "ipython",
    "version": 3
   },
   "file_extension": ".py",
   "mimetype": "text/x-python",
   "name": "python",
   "nbconvert_exporter": "python",
   "pygments_lexer": "ipython3",
   "version": "3.8.3-final"
  },
  "orig_nbformat": 2,
  "kernelspec": {
   "name": "python3",
   "display_name": "Python 3",
   "language": "python"
  }
 },
 "nbformat": 4,
 "nbformat_minor": 2,
 "cells": [
  {
   "cell_type": "code",
   "execution_count": 45,
   "metadata": {},
   "outputs": [],
   "source": [
    "# データ加工・処理・分析モジュール\n",
    "import numpy as np\n",
    "import numpy.random as random\n",
    "import scipy as sp\n",
    "import pandas as pd\n",
    "from pandas import Series, DataFrame"
   ]
  },
  {
   "cell_type": "code",
   "execution_count": 46,
   "metadata": {},
   "outputs": [],
   "source": [
    "# 学習用データとテストデータに分けるためのモジュール（正解率を出すため）\n",
    "from sklearn.model_selection import train_test_split"
   ]
  },
  {
   "cell_type": "code",
   "execution_count": 47,
   "metadata": {},
   "outputs": [],
   "source": [
    "#データの読み込み\n",
    "train_df = pd.read_csv('train_data.csv')"
   ]
  },
  {
   "cell_type": "code",
   "execution_count": 48,
   "metadata": {},
   "outputs": [],
   "source": [
    "#欠損値を含む行の削除\n",
    "train_df=train_df.dropna(how='any')"
   ]
  },
  {
   "cell_type": "code",
   "execution_count": 49,
   "metadata": {},
   "outputs": [
    {
     "output_type": "stream",
     "name": "stdout",
     "text": [
      "    rank              Player  Annual income(100 million yen)   Age     GP  \\\n0      1       Stephen Curry                            43.4  31.0  112.0   \n1      2  Russell Westbrook                             41.5  32.0  104.0   \n2      3          Chris Paul                            41.5  35.0  108.0   \n3      4        James Harden                            41.2  31.0  126.0   \n4      5           John Wall                            41.2  29.0   37.0   \n5      6        LeBron James                            40.4  35.0  260.0   \n6      7        Kevin Durant                            40.1  32.0  139.0   \n7      8       Blake Griffin                            37.2  31.0   53.0   \n8      9          Kyle Lowry                            35.9  33.0   86.0   \n9     10         Paul George                            35.6  30.0   88.0   \n10    11       Klay Thompson                            35.3  29.0  123.0   \n11    12        Kemba Walker                            35.3  30.0   25.0   \n12    13       Kawhi Leonard                            35.3  29.0  123.0   \n13    14        Jimmy Butler                            35.3  31.0   76.0   \n14    15       Tobias Harris                            35.3  28.0   16.0   \n15    16      Gordon Hayward                            35.3  29.0   24.0   \n16    17     Mike Conley Jr.                            35.1  33.0   60.0   \n17    18        Kyrie Irving                            34.2  28.0   61.0   \n18    19     Khris Middleton                            33.0  29.0   44.0   \n19    20        Paul Millsap                            32.7  35.0  118.0   \n20    21      Damian Lillard                            31.2  29.0   51.0   \n21    22          Kevin Love                            31.2  31.0   63.0   \n22    23          Al Horford                            30.2  33.0  120.0   \n23    24      Nikola Vucevic                            30.2  29.0    6.0   \n24    25       DeMar DeRozan                            29.9  30.0   58.0   \n25    26         CJ McCollum                            29.7  28.0   46.0   \n26    27        Nikola Jokic                            29.7  25.0   30.0   \n27    28      Andrew Wiggins                            29.7  22.0    5.0   \n28    29         Joel Embiid                            29.7  25.0   19.0   \n30    31  Karl-Anthony Towns                            29.4  25.0    5.0   \n32    33    D'Angelo Russell                            29.4  22.0    5.0   \n34    35       Anthony Davis                            29.2  27.0   34.0   \n35    36      Andre Drummond                            29.2  27.0    8.0   \n36    37        Bradley Beal                            29.2  27.0   40.0   \n38    39        Jrue Holiday                            29.2  30.0   30.0   \n39    40   LaMarcus Aldridge                            28.0  35.0   72.0   \n\n     MIN   FG%    3P%   FT%  ORB  ...   TRB  AST  STL  BLK  TOV   PF   PTS  \\\n0   37.8   8.7  40.10  90.6  0.8  ...   5.4  6.3  1.6  0.3  3.5  2.5  26.5   \n1   37.5  41.1  29.80  83.5  1.8  ...   7.1  7.8  1.8  0.3  4.0  2.9  25.0   \n2   37.2  47.8  36.40  84.5  0.8  ...   5.2  8.2  2.1  0.2  2.7  3.1  21.0   \n3   35.2  42.5  33.20  86.6  0.7  ...   5.4  5.8  1.7  0.5  3.4  3.1  23.5   \n4   38.8  41.9  26.70  82.2  0.5  ...   4.3  9.8  1.7  1.1  3.9  2.3  21.9   \n5   41.6  49.6  33.50  74.1  1.5  ...   9.0  7.2  1.7  1.0  3.7  2.3  28.8   \n6   40.3  47.5  35.20  86.4  0.8  ...   7.7  4.0  1.0  1.2  3.2  2.5  29.1   \n7   35.3  49.0   3.61  73.0  2.2  ...   8.5  4.0  1.1  0.9  2.5  3.4  21.2   \n8   34.7  41.9  34.50  79.2  0.8  ...   4.3  5.7  1.3  0.2  2.5  3.4  15.2   \n9   38.7  42.1  35.90  82.1  1.0  ...   7.1  3.9  1.6  0.5  3.0  3.3  20.2   \n10  37.2  44.2  41.50  84.1  0.6  ...   4.0  2.2  1.0  0.5  1.8  2.7  19.3   \n11  37.7  42.0  33.10  86.7  0.3  ...   3.9  4.8  1.2  0.6  2.3  1.8  20.6   \n12  35.1  50.7  40.10  83.9  1.8  ...   7.9  2.7  1.7  0.7  1.8  2.2  20.5   \n13  37.6  45.1  35.00  84.1  1.5  ...   5.8  4.2  1.6  0.6  1.9  1.9  18.7   \n14  37.4  43.2  34.70  87.2  1.1  ...   9.2  3.8  1.0  0.6  1.6  2.6  15.3   \n15  33.4  40.5  36.50  95.5  0.5  ...   4.8  3.0  0.8  0.3  1.8  1.8  15.8   \n16  37.0  42.3  34.90  79.8  0.5  ...   3.6  6.6  1.4  0.2  2.1  2.3  16.9   \n17  36.4  45.3  39.80  87.9  0.7  ...   3.3  5.0  1.4  0.6  2.4  2.3  23.5   \n18  36.5  43.4  42.20  84.4  0.5  ...   5.7  4.4  1.2  0.2  2.3  3.3  18.5   \n19  28.7  46.0  28.80  72.4  2.3  ...   7.1  1.7  1.0  1.1  1.6  3.0  12.7   \n20  40.5  40.6  35.30  87.0  0.8  ...   4.6  5.9  1.3  0.3  3.2  2.5  24.8   \n21  31.1  40.3  40.40  85.4  2.0  ...   9.7  1.8  0.7  0.5  1.7  2.4  15.3   \n22  34.7  50.1  41.10  78.3  1.9  ...   8.1  3.5  0.8  1.2  1.7  2.5  13.8   \n23  35.6  35.6  23.10  75.0  1.5  ...   6.8  2.5  0.3  0.8  2.2  2.0   9.5   \n24  37.3  41.8  23.30  85.1  0.7  ...   4.6  3.6  1.1  0.2  2.3  2.6  21.9   \n25  34.0  43.9  39.40  78.8  0.7  ...   3.8  2.5  0.8  0.4  1.8  2.2  19.6   \n26  38.2  51.0  41.70  84.0  2.8  ...  11.5  7.1  1.0  0.9  3.0  3.6  25.3   \n27  32.8  44.1  33.30  60.0  1.0  ...   5.2  2.0  0.4  0.4  1.8  2.8  15.8   \n28  32.2  43.1  29.30  77.5  2.3  ...  11.4  3.2  0.8  2.1  3.6  3.4  20.7   \n30  34.0  46.7  27.30  73.9  3.0  ...  13.4  2.2  0.4  1.0  2.4  2.8  15.2   \n32  29.6  35.9  32.40  84.6  0.4  ...   3.6  3.6  1.4  0.2  2.8  2.4  19.4   \n34  38.2  55.1  34.50  83.9  2.6  ...  10.9  2.8  1.4  1.9  2.6  2.9  28.8   \n35  32.3  48.1   0.00  36.4  4.0  ...  11.0  1.1  0.9  1.4  1.9  3.1  15.5   \n36  39.9  44.0  36.30  82.3  1.2  ...   4.4  3.7  1.6  0.6  2.3  2.7  22.7   \n38  36.2  45.3  38.70  80.6  1.0  ...   4.5  5.5  1.4  0.5  2.2  2.0  17.0   \n39  37.1  45.5  32.70  82.4  2.5  ...   8.5  1.7  0.7  1.4  1.6  2.7  20.8   \n\n    Height(cm)  Weight(kg)  Position  \n0        191.0        84.0        PG  \n1        191.0        91.0        PG  \n2        183.0        79.0        PG  \n3        196.0       100.0        SG  \n4        193.0        88.0        PG  \n5        206.0       113.5        SF  \n6        208.0       107.0        SF  \n7        206.0       114.0        PF  \n8        183.0        89.0        PG  \n9        203.0       100.0        SF  \n10       198.0        97.5        SG  \n11       183.0        83.0        PG  \n12       201.0       104.0        SF  \n13       201.0       100.0        SG  \n14       203.0       103.0        PF  \n15       201.0       102.0        SF  \n16       185.0        79.0        PG  \n17       188.0        88.5        PG  \n18       203.0       101.0        SF  \n19       203.0       117.0        PF  \n20       188.0        88.0        PG  \n21       208.0       118.0        PF  \n22       208.0       111.0        PF  \n23       211.0       118.0         C  \n24       198.0        99.8        SG  \n25       191.0        86.0        SG  \n26       211.0       129.0         C  \n27       203.0        91.0        SF  \n28       213.0       127.0         C  \n30       213.0       112.0         C  \n32       193.0        88.0        PG  \n34       208.0       115.0        PF  \n35       211.0       122.0         C  \n36       191.0        94.0        SG  \n38       193.0        93.0        SG  \n39       211.0       113.4        PF  \n\n[36 rows x 21 columns]\n"
     ]
    }
   ],
   "source": [
    "print(train_df)"
   ]
  },
  {
   "cell_type": "code",
   "execution_count": 50,
   "metadata": {},
   "outputs": [],
   "source": [
    "# 説明変数X(特徴量)と目的変数Y(ポジション)に分ける\n",
    "X = train_df.drop(['rank','Player','Position'], axis=1)\n",
    "Y = train_df['Position']\n",
    "\n",
    "#ここから学習用データとテスト用データに分ける。random_stateは乱数を固定\n",
    "X_train, X_test, y_train, y_test = train_test_split(X, Y, random_state=0)"
   ]
  },
  {
   "cell_type": "code",
   "execution_count": 51,
   "metadata": {},
   "outputs": [
    {
     "output_type": "stream",
     "name": "stdout",
     "text": [
      "train score: 0.8888888888888888\ntest score: 0.5555555555555556\n"
     ]
    }
   ],
   "source": [
    "# k-近傍法（k-NN）\n",
    "from sklearn.neighbors import KNeighborsClassifier\n",
    "\n",
    "#k-NNインスタンス\n",
    "model = KNeighborsClassifier(n_neighbors=2)\n",
    "#学習モデル構築。引数に訓練データの特徴量と、それに対応したラベル\n",
    "model.fit(X_train, y_train)\n",
    "\n",
    "# .scoreで正解率を算出。\n",
    "print(\"train score:\",model.score(X_train,y_train))\n",
    "print(\"test score:\",model.score(X_test,y_test))"
   ]
  },
  {
   "cell_type": "code",
   "execution_count": 52,
   "metadata": {},
   "outputs": [
    {
     "output_type": "execute_result",
     "data": {
      "text/plain": [
       "array(['PG', 'PG', 'PG', 'SF', 'PG', 'SF', 'SF', 'PF', 'PG', 'SF', 'SF',\n",
       "       'PG', 'SF', 'SF', 'PF', 'PF', 'PG', 'PG', 'SF', 'PF', 'PG', 'PF',\n",
       "       'PF', 'C', 'SG', 'SG', 'C', 'C', 'C', 'C', 'PF', 'C', 'C', 'SG',\n",
       "       'SG', 'PF'], dtype=object)"
      ]
     },
     "metadata": {},
     "execution_count": 52
    }
   ],
   "source": [
    "# 構築したモデルからポジションを判定\n",
    "model.predict(X)"
   ]
  },
  {
   "cell_type": "code",
   "execution_count": 53,
   "metadata": {},
   "outputs": [
    {
     "output_type": "stream",
     "name": "stdout",
     "text": [
      "train score: 0.9629629629629629\ntest score: 0.6666666666666666\n"
     ]
    }
   ],
   "source": [
    "# 決定木\n",
    "from sklearn.tree import DecisionTreeClassifier\n",
    "\n",
    "# 決定木インスタンス(木の深さ3)\n",
    "model = DecisionTreeClassifier(max_depth=3)\n",
    "#学習モデル構築。引数に訓練データの特徴量と、それに対応したラベル\n",
    "model.fit(X_train, y_train)\n",
    "\n",
    "# .scoreで正解率を算出。\n",
    "print(\"train score:\",model.score(X_train,y_train))\n",
    "print(\"test score:\",model.score(X_test,y_test))"
   ]
  },
  {
   "cell_type": "code",
   "execution_count": 54,
   "metadata": {},
   "outputs": [
    {
     "output_type": "execute_result",
     "data": {
      "text/plain": [
       "array(['PG', 'PG', 'PG', 'SG', 'PG', 'PF', 'SF', 'PF', 'PG', 'SF', 'SG',\n",
       "       'SG', 'SF', 'SG', 'PF', 'SG', 'SG', 'PG', 'SF', 'PF', 'PG', 'PF',\n",
       "       'PF', 'C', 'SG', 'SG', 'C', 'SF', 'C', 'C', 'PG', 'PF', 'C', 'SG',\n",
       "       'SG', 'PF'], dtype=object)"
      ]
     },
     "metadata": {},
     "execution_count": 54
    }
   ],
   "source": [
    "# 構築したモデルからポジションを判定\n",
    "model.predict(X)"
   ]
  },
  {
   "cell_type": "code",
   "execution_count": 55,
   "metadata": {},
   "outputs": [
    {
     "output_type": "stream",
     "name": "stdout",
     "text": [
      "train score: 0.8148148148148148\ntest score: 0.4444444444444444\n"
     ]
    }
   ],
   "source": [
    "# サポートベクターマシン（SVM）\n",
    "from sklearn.svm import LinearSVC\n",
    "\n",
    "# SVMインスタンス\n",
    "model = LinearSVC()\n",
    "#学習モデル構築。引数に訓練データの特徴量と、それに対応したラベル\n",
    "model.fit(X_train, y_train)\n",
    "\n",
    "# .scoreで正解率を算出。\n",
    "print(\"train score:\",model.score(X_train,y_train))\n",
    "print(\"test score:\",model.score(X_test,y_test))"
   ]
  },
  {
   "cell_type": "code",
   "execution_count": 56,
   "metadata": {},
   "outputs": [
    {
     "output_type": "execute_result",
     "data": {
      "text/plain": [
       "array(['PG', 'PG', 'PG', 'SG', 'PG', 'SF', 'SF', 'PF', 'PG', 'SG', 'SG',\n",
       "       'PG', 'SF', 'SG', 'SG', 'SG', 'PG', 'SG', 'SG', 'PF', 'SG', 'PF',\n",
       "       'SF', 'C', 'SG', 'SG', 'C', 'SF', 'C', 'C', 'SG', 'SG', 'C', 'SG',\n",
       "       'SG', 'SG'], dtype=object)"
      ]
     },
     "metadata": {},
     "execution_count": 56
    }
   ],
   "source": [
    "# 構築したモデルからポジションを判定\n",
    "model.predict(X)"
   ]
  },
  {
   "cell_type": "code",
   "execution_count": 57,
   "metadata": {},
   "outputs": [
    {
     "output_type": "stream",
     "name": "stdout",
     "text": [
      "train score: 1.0\ntest score: 0.4444444444444444\n"
     ]
    }
   ],
   "source": [
    "# ロジスティック回帰\n",
    "from sklearn.linear_model import LogisticRegression\n",
    "\n",
    "# ロジスティック回帰インスタンス\n",
    "model = LogisticRegression()\n",
    "#学習モデル構築。引数に訓練データの特徴量と、それに対応したラベル\n",
    "model.fit(X_train, y_train)\n",
    "\n",
    "# .scoreで正解率を算出。\n",
    "print(\"train score:\",model.score(X_train,y_train))\n",
    "print(\"test score:\",model.score(X_test,y_test))"
   ]
  },
  {
   "cell_type": "code",
   "execution_count": 58,
   "metadata": {},
   "outputs": [
    {
     "output_type": "execute_result",
     "data": {
      "text/plain": [
       "array(['PG', 'PG', 'PG', 'SG', 'PG', 'SF', 'SF', 'PF', 'PG', 'SF', 'SF',\n",
       "       'PG', 'SF', 'SG', 'PF', 'SG', 'PG', 'PG', 'SF', 'PF', 'PG', 'PF',\n",
       "       'SF', 'C', 'SG', 'SG', 'C', 'SF', 'C', 'C', 'SG', 'SF', 'C', 'SG',\n",
       "       'SG', 'PF'], dtype=object)"
      ]
     },
     "metadata": {},
     "execution_count": 58
    }
   ],
   "source": [
    "# 構築したモデルからポジションを判定\n",
    "model.predict(X)"
   ]
  },
  {
   "cell_type": "code",
   "execution_count": 59,
   "metadata": {},
   "outputs": [],
   "source": [
    "#このままだと精度が悪いので、仮説によって特徴量を選ぶ"
   ]
  },
  {
   "cell_type": "code",
   "execution_count": 60,
   "metadata": {},
   "outputs": [],
   "source": [
    "# 説明変数X(特徴量)と目的変数Y(ポジション)に分ける\n",
    "X = train_df[['3P%','TRB','AST','BLK','TOV','Height(cm)','Weight(kg)']]\n",
    "Y = train_df['Position']\n",
    "\n",
    "#ここから学習用データとテスト用データに分ける。random_stateは乱数を固定\n",
    "X_train, X_test, y_train, y_test = train_test_split(X, Y, random_state=0)"
   ]
  },
  {
   "cell_type": "code",
   "execution_count": 61,
   "metadata": {},
   "outputs": [
    {
     "output_type": "stream",
     "name": "stdout",
     "text": [
      "0     PG\n1     PG\n2     PG\n3     SG\n4     PG\n5     SF\n6     SF\n7     PF\n8     PG\n9     SF\n10    SG\n11    PG\n12    SF\n13    SG\n14    PF\n15    SF\n16    PG\n17    PG\n18    SF\n19    PF\n20    PG\n21    PF\n22    PF\n23     C\n24    SG\n25    SG\n26     C\n27    SF\n28     C\n30     C\n32    PG\n34    PF\n35     C\n36    SG\n38    SG\n39    PF\nName: Position, dtype: object\n"
     ]
    }
   ],
   "source": [
    "print(Y)"
   ]
  },
  {
   "cell_type": "code",
   "execution_count": 62,
   "metadata": {},
   "outputs": [
    {
     "output_type": "stream",
     "name": "stdout",
     "text": [
      "train score: 0.7777777777777778\ntest score: 0.8888888888888888\n"
     ]
    }
   ],
   "source": [
    "# k-近傍法（k-NN）\n",
    "from sklearn.neighbors import KNeighborsClassifier\n",
    "\n",
    "#k-NNインスタンス\n",
    "model = KNeighborsClassifier(n_neighbors=2)\n",
    "#学習モデル構築。引数に訓練データの特徴量と、それに対応したラベル\n",
    "model.fit(X_train, y_train)\n",
    "\n",
    "# .scoreで正解率を算出。\n",
    "print(\"train score:\",model.score(X_train,y_train))\n",
    "print(\"test score:\",model.score(X_test,y_test))"
   ]
  },
  {
   "cell_type": "code",
   "execution_count": 63,
   "metadata": {},
   "outputs": [
    {
     "output_type": "stream",
     "name": "stdout",
     "text": [
      "   Prediction Label\n0          PG    PG\n1          PG    PG\n2          PG    PG\n3          SG    SG\n4          PG    PG\n5          PF    SF\n6          PF    SF\n7           C    PF\n8          PG    PG\n9          SF    SF\n10         SF    SG\n11         PG    PG\n12         SF    SF\n13         SF    SG\n14         PF    PF\n15         SF    SF\n16         PG    PG\n17         PG    PG\n18         SF    SF\n19         PF    PF\n20         PG    PG\n21         PF    PF\n22         PF    PF\n23          C     C\n24         SG    SG\n25         PG    SG\n26          C     C\n27         SF    SF\n28          C     C\n29          C     C\n30         PG    PG\n31         PF    PF\n32          C     C\n33         SG    SG\n34         SG    SG\n35          C    PF\n"
     ]
    }
   ],
   "source": [
    "# 説明変数X(特徴量)と目的変数Y(ポジション)に分ける\n",
    "X = train_df[['3P%','TRB','AST','BLK','TOV','Height(cm)','Weight(kg)']]\n",
    "Y = train_df['Position']\n",
    "X=X.reset_index(drop=True)\n",
    "Y=Y.reset_index(drop=True)\n",
    "#traindataを予測\n",
    "# 構築したモデルからポジションを判定\n",
    "pred_Y_train=pd.Series(model.predict(X))\n",
    "pred_Y_train=pd.DataFrame(pred_Y_train)\n",
    "Y_train=pd.DataFrame(Y)\n",
    "pred_Y_train.columns=[\"Prediction\"]\n",
    "Y_train.columns=[\"Label\"]\n",
    "result=pred_Y_train.join(Y_train)\n",
    "print(result)"
   ]
  },
  {
   "cell_type": "code",
   "execution_count": 64,
   "metadata": {},
   "outputs": [
    {
     "output_type": "stream",
     "name": "stdout",
     "text": [
      "   Prediction Label\n0          SF    SF\n1          PG    PG\n2          SG    SG\n3          SF    SF\n4          SF    SG\n5           C     C\n6          SF    SF\n7          SF    SF\n8          SF    SG\n9          SG    PG\n10          C     C\n11         PG    SG\n12         PG    SG\n13         PG    PG\n14          C    PF\n15         PG    SG\n16         SF    SF\n"
     ]
    }
   ],
   "source": [
    "#データの読み込み\n",
    "test_df = pd.read_csv('test_data.csv')\n",
    "# 説明変数X(特徴量)と目的変数Y(ポジション)に分ける\n",
    "x = test_df[['3P%','TRB','AST','BLK','TOV','Height(cm)','Weight(kg)']]\n",
    "y = test_df['Position']\n",
    "#欠損値を含む行の削除\n",
    "x=x.dropna()\n",
    "y=y.dropna()\n",
    "#testdataを予測\n",
    "# 構築したモデルからポジションを判定\n",
    "pred_y=pd.Series(model.predict(x))\n",
    "pred_y=pd.DataFrame(pred_y)\n",
    "y=pd.DataFrame(y)\n",
    "pred_y.columns=[\"Prediction\"]\n",
    "y.columns=[\"Label\"]\n",
    "result=pred_y.join(y)\n",
    "print(result)"
   ]
  },
  {
   "cell_type": "code",
   "execution_count": 65,
   "metadata": {},
   "outputs": [
    {
     "output_type": "stream",
     "name": "stdout",
     "text": [
      "train score: 0.9629629629629629\ntest score: 0.6666666666666666\n"
     ]
    }
   ],
   "source": [
    "# 決定木\n",
    "from sklearn.tree import DecisionTreeClassifier\n",
    "\n",
    "# 決定木インスタンス(木の深さ3)\n",
    "model = DecisionTreeClassifier(max_depth=3)\n",
    "#学習モデル構築。引数に訓練データの特徴量と、それに対応したラベル\n",
    "model.fit(X_train, y_train)\n",
    "\n",
    "# .scoreで正解率を算出。\n",
    "print(\"train score:\",model.score(X_train,y_train))\n",
    "print(\"test score:\",model.score(X_test,y_test))"
   ]
  },
  {
   "cell_type": "code",
   "execution_count": 66,
   "metadata": {},
   "outputs": [
    {
     "output_type": "stream",
     "name": "stdout",
     "text": [
      "train score: 0.5185185185185185\ntest score: 0.6666666666666666\n"
     ]
    }
   ],
   "source": [
    "# サポートベクターマシン（SVM）\n",
    "from sklearn.svm import LinearSVC\n",
    "\n",
    "# SVMインスタンス\n",
    "model = LinearSVC()\n",
    "#学習モデル構築。引数に訓練データの特徴量と、それに対応したラベル\n",
    "model.fit(X_train, y_train)\n",
    "\n",
    "# .scoreで正解率を算出。\n",
    "print(\"train score:\",model.score(X_train,y_train))\n",
    "print(\"test score:\",model.score(X_test,y_test))"
   ]
  },
  {
   "cell_type": "code",
   "execution_count": 67,
   "metadata": {},
   "outputs": [
    {
     "output_type": "stream",
     "name": "stdout",
     "text": [
      "train score: 0.8518518518518519\ntest score: 0.5555555555555556\n"
     ]
    }
   ],
   "source": [
    "# ロジスティック回帰\n",
    "from sklearn.linear_model import LogisticRegression\n",
    "\n",
    "# ロジスティック回帰インスタンス\n",
    "model = LogisticRegression()\n",
    "#学習モデル構築。引数に訓練データの特徴量と、それに対応したラベル\n",
    "model.fit(X_train, y_train)\n",
    "\n",
    "# .scoreで正解率を算出。\n",
    "print(\"train score:\",model.score(X_train,y_train))\n",
    "print(\"test score:\",model.score(X_test,y_test))"
   ]
  },
  {
   "cell_type": "code",
   "execution_count": 68,
   "metadata": {},
   "outputs": [],
   "source": [
    "#交差検証法"
   ]
  },
  {
   "cell_type": "code",
   "execution_count": 69,
   "metadata": {},
   "outputs": [],
   "source": [
    "# k-近傍法（k-NN）\n",
    "from sklearn.neighbors import KNeighborsClassifier\n",
    "\n",
    "#k-NNインスタンス\n",
    "model = KNeighborsClassifier(n_neighbors=2)"
   ]
  },
  {
   "cell_type": "code",
   "execution_count": 70,
   "metadata": {},
   "outputs": [
    {
     "output_type": "stream",
     "name": "stdout",
     "text": [
      "Cross-Validation scores: [0.375      0.57142857 0.85714286 0.71428571 0.71428571]\nAverage score: 0.6464285714285715\n"
     ]
    }
   ],
   "source": [
    "from sklearn.model_selection import cross_val_score\n",
    "# 交差検証\n",
    "scores = cross_val_score(model,X,Y)\n",
    "# 各分割におけるスコア\n",
    "print('Cross-Validation scores: {}'.format(scores))\n",
    "# スコアの平均値\n",
    "import numpy as np\n",
    "print('Average score: {}'.format(np.mean(scores)))"
   ]
  },
  {
   "cell_type": "code",
   "execution_count": 71,
   "metadata": {},
   "outputs": [
    {
     "output_type": "stream",
     "name": "stdout",
     "text": [
      "   Prediction Label\n0          SF    SF\n1          PG    PG\n2          SG    SG\n3          SF    SF\n4          SF    SG\n5           C     C\n6          SF    SF\n7          SF    SF\n8          SF    SG\n9          SG    PG\n10          C     C\n11         PG    SG\n12         PG    SG\n13         PG    PG\n14          C    PF\n15         PG    SG\n16         SF    SF\n"
     ]
    }
   ],
   "source": [
    "#学習モデル構築。引数に訓練データの特徴量と、それに対応したラベル\n",
    "model.fit(X_train, y_train)\n",
    "#testdataを予測\n",
    "# 構築したモデルからポジションを判定\n",
    "pred_y=pd.Series(model.predict(x))\n",
    "pred_y=pd.DataFrame(pred_y)\n",
    "y=pd.DataFrame(y)\n",
    "pred_y.columns=[\"Prediction\"]\n",
    "y.columns=[\"Label\"]\n",
    "result=pred_y.join(y)\n",
    "print(result)"
   ]
  },
  {
   "cell_type": "code",
   "execution_count": 72,
   "metadata": {},
   "outputs": [
    {
     "output_type": "stream",
     "name": "stdout",
     "text": [
      "k= 8\nCross-validation scores: \n[0.8  0.4  0.4  1.   1.   0.75 1.   0.25]\nAverage score: \n0.7\n"
     ]
    }
   ],
   "source": [
    "from sklearn.model_selection import KFold\n",
    "# 単純な方法\n",
    "for k in range(2,20):\n",
    "    kfold = KFold(n_splits=k)\n",
    "    scores_kfold=cross_val_score(model,X,Y,cv=kfold)\n",
    "    mean=np.mean(scores_kfold)\n",
    "    if k==2:\n",
    "        scores_list=scores_kfold\n",
    "        mean_max=mean\n",
    "        optical_k=k\n",
    "    elif mean>mean_max:\n",
    "        scores_list=scores_kfold\n",
    "        mean_max=mean\n",
    "        optical_k=k\n",
    "print(\"k=\",optical_k)\n",
    "print('Cross-validation scores: \\n{}'.format(scores_list))\n",
    "# スコアの平均値\n",
    "print('Average score: \\n{}'.format(mean_max))"
   ]
  },
  {
   "cell_type": "code",
   "execution_count": 73,
   "metadata": {},
   "outputs": [
    {
     "output_type": "stream",
     "name": "stdout",
     "text": [
      "k= 9\nCross-validation scores: \n[0.5  0.25 0.75 0.75 1.   0.75 0.75 0.75 0.75]\nAverage score: \n0.6944444444444444\n"
     ]
    }
   ],
   "source": [
    "from sklearn.model_selection import StratifiedKFold\n",
    "# 層化 k 分割交差検証\n",
    "for k in range(2,11):\n",
    "    stratifiedkfold = StratifiedKFold(n_splits=k)\n",
    "    scores_stratifiedkfold = cross_val_score(model,X,Y,cv=stratifiedkfold)\n",
    "    mean=np.mean(scores_stratifiedkfold)\n",
    "    if k==2:\n",
    "        scores_list=scores_stratifiedkfold\n",
    "        mean_max=mean\n",
    "        optical_k=k\n",
    "    elif mean>mean_max:\n",
    "        scores_list=scores_stratifiedkfold\n",
    "        mean_max=mean\n",
    "        optical_k=k\n",
    "print(\"k=\",optical_k)\n",
    "print('Cross-validation scores: \\n{}'.format(scores_list))\n",
    "# スコアの平均値\n",
    "print('Average score: \\n{}'.format(mean_max))"
   ]
  },
  {
   "cell_type": "code",
   "execution_count": null,
   "metadata": {},
   "outputs": [],
   "source": []
  },
  {
   "cell_type": "code",
   "execution_count": 74,
   "metadata": {},
   "outputs": [],
   "source": [
    "#主成分分析↓"
   ]
  },
  {
   "cell_type": "code",
   "execution_count": 75,
   "metadata": {},
   "outputs": [
    {
     "output_type": "execute_result",
     "data": {
      "text/plain": [
       "StandardScaler()"
      ]
     },
     "metadata": {},
     "execution_count": 75
    }
   ],
   "source": [
    "#トレーニングデータを利用してデータの平均と標準偏差を求める\n",
    "from sklearn.preprocessing import StandardScaler\n",
    "sc = StandardScaler()\n",
    "sc.fit(X_train)"
   ]
  },
  {
   "cell_type": "code",
   "execution_count": 76,
   "metadata": {},
   "outputs": [],
   "source": [
    "#標準偏差と平均値を使用して、トレーニングデータとテストデータを、それぞれ標準化する\n",
    "X_train_std = sc.transform(X_train)\n",
    "X_test_std = sc.transform(X_test)"
   ]
  },
  {
   "cell_type": "code",
   "execution_count": 77,
   "metadata": {},
   "outputs": [],
   "source": [
    "#主成分分析により、トレーニングデータから上位２つの主成分を抽出し、主成分分析の結果をトレーニングデータとテストデータに反映させる\n",
    "from sklearn.decomposition import PCA\n",
    "pca = PCA(n_components=2)\n",
    "X_train_pca = pca.fit_transform(X_train)\n",
    "X_test_pca = pca.transform(X_test)"
   ]
  },
  {
   "cell_type": "code",
   "execution_count": 78,
   "metadata": {},
   "outputs": [
    {
     "output_type": "stream",
     "name": "stdout",
     "text": [
      "[[ 14.77711422  -0.62414632]\n [ -9.86080386   1.86373647]\n [ 12.43910204  -5.45533437]\n [-14.57149721   0.54790505]\n [ 25.6292334   -6.53374526]\n [ 30.6873664   22.79549499]\n [-21.95390949   5.15564714]\n [ -4.34191015  -1.86566487]\n [  9.54139678  -5.28895249]\n [-21.79375118  -0.59301449]\n [ -0.39755112  -2.97378169]\n [ 20.17820297  22.70117851]\n [ 21.80473657 -18.36872335]\n [-14.61560717   7.36351951]\n [ -2.52949676  -7.88083364]\n [-21.95700995  -0.13221438]\n [ -2.14415275   9.8292395 ]\n [  4.81614389  -5.41448099]\n [ 19.02752357   2.39734472]\n [-15.44616167  10.87786388]\n [ -5.04965377  -9.28777388]\n [ 12.14364953 -13.45922994]\n [ 12.49888733  -1.18339468]\n [ -3.4814794   -3.15744026]\n [-15.28838457  -1.81654778]\n [ -6.33073416   0.81081097]\n [-23.7812535   -0.30746236]]\n"
     ]
    }
   ],
   "source": [
    "print(X_train_pca)"
   ]
  },
  {
   "cell_type": "code",
   "execution_count": 87,
   "metadata": {},
   "outputs": [
    {
     "output_type": "stream",
     "name": "stdout",
     "text": [
      "train score: 0.8148148148148148\ntest score: 0.8888888888888888\n"
     ]
    }
   ],
   "source": [
    "# k-近傍法（k-NN）\n",
    "from sklearn.neighbors import KNeighborsClassifier\n",
    "\n",
    "#k-NNインスタンス\n",
    "model = KNeighborsClassifier(n_neighbors=2)\n",
    "#学習モデル構築。引数に訓練データの特徴量と、それに対応したラベル\n",
    "model.fit(X_train_pca, y_train)\n",
    "\n",
    "# .scoreで正解率を算出。\n",
    "print(\"train score:\",model.score(X_train_pca,y_train))\n",
    "print(\"test score:\",model.score(X_test_pca,y_test))"
   ]
  },
  {
   "cell_type": "code",
   "execution_count": 88,
   "metadata": {},
   "outputs": [
    {
     "output_type": "stream",
     "name": "stdout",
     "text": [
      "30     C\n27    SF\n39    PF\n36    SG\n28     C\n35     C\n8     PG\n13    SG\n5     SF\n17    PG\n14    PF\n7     PF\n26     C\n1     PG\n12    SF\n25    SG\n24    SG\n6     SF\n23     C\n4     PG\n18    SF\n21    PF\n19    PF\n9     SF\n38    SG\n3     SG\n0     PG\nName: Position, dtype: object\n"
     ]
    }
   ],
   "source": [
    "print(y_train)"
   ]
  },
  {
   "cell_type": "code",
   "execution_count": null,
   "metadata": {},
   "outputs": [],
   "source": [
    "X=X.reset_index(drop=True)\n",
    "Y=Y.reset_index(drop=True)\n",
    "#traindataを予測\n",
    "# 構築したモデルからポジションを判定\n",
    "pred_Y_train=pd.Series(model.predict(X))\n",
    "pred_Y_train=pd.DataFrame(pred_Y_train)\n",
    "Y_train=pd.DataFrame(Y)\n",
    "pred_Y_train.columns=[\"Prediction\"]\n",
    "Y_train.columns=[\"Label\"]\n",
    "result=pred_Y_train.join(Y_train)\n",
    "print(result)"
   ]
  },
  {
   "cell_type": "code",
   "execution_count": 82,
   "metadata": {},
   "outputs": [],
   "source": [
    "#データの読み込み\n",
    "test_df = pd.read_csv('test_data.csv')\n",
    "# 説明変数X(特徴量)と目的変数Y(ポジション)に分ける\n",
    "x = test_df[['3P%','TRB','AST','BLK','TOV','Height(cm)','Weight(kg)']]\n",
    "y = test_df['Position']\n",
    "#欠損値を含む行の削除\n",
    "x=x.dropna()\n",
    "y=y.dropna()"
   ]
  },
  {
   "cell_type": "code",
   "execution_count": 83,
   "metadata": {},
   "outputs": [],
   "source": [
    "#主成分分析後に絞った結果"
   ]
  },
  {
   "cell_type": "code",
   "execution_count": 102,
   "metadata": {},
   "outputs": [],
   "source": [
    "# 説明変数X(特徴量)と目的変数Y(ポジション)に分ける\n",
    "X = train_df[['3P%','AST']]\n",
    "Y = train_df['Position']\n",
    "\n",
    "#ここから学習用データとテスト用データに分ける。random_stateは乱数を固定\n",
    "X_train, X_test, y_train, y_test = train_test_split(X, Y, random_state=0)"
   ]
  },
  {
   "cell_type": "code",
   "execution_count": 103,
   "metadata": {},
   "outputs": [
    {
     "output_type": "stream",
     "name": "stdout",
     "text": [
      "train score: 0.6296296296296297\ntest score: 0.6666666666666666\n"
     ]
    }
   ],
   "source": [
    "# k-近傍法（k-NN）\n",
    "from sklearn.neighbors import KNeighborsClassifier\n",
    "\n",
    "#k-NNインスタンス\n",
    "model = KNeighborsClassifier(n_neighbors=2)\n",
    "#学習モデル構築。引数に訓練データの特徴量と、それに対応したラベル\n",
    "model.fit(X_train, y_train)\n",
    "\n",
    "# .scoreで正解率を算出。\n",
    "print(\"train score:\",model.score(X_train,y_train))\n",
    "print(\"test score:\",model.score(X_test,y_test))"
   ]
  },
  {
   "cell_type": "code",
   "execution_count": null,
   "metadata": {},
   "outputs": [],
   "source": []
  }
 ]
}